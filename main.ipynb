{
 "cells": [
  {
   "cell_type": "code",
   "execution_count": 70,
   "id": "90c4b6be-6a16-4c5a-9968-610fdd5824ca",
   "metadata": {},
   "outputs": [],
   "source": [
    "import os\n",
    "from dotenv import load_dotenv\n",
    "\n",
    "load_dotenv()\n",
    "\n",
    "from langchain_google_genai import ChatGoogleGenerativeAI\n",
    "\n",
    "llm = ChatGoogleGenerativeAI(\n",
    "    model=\"gemini-2.5-flash\",\n",
    "    temperature=0,\n",
    "    api_key=os.getenv(\"GEMINI_API_KEY\")\n",
    ")\n"
   ]
  },
  {
   "cell_type": "code",
   "execution_count": 71,
   "id": "938dd771-8ba4-473b-a907-32f1ad6a3230",
   "metadata": {},
   "outputs": [
    {
     "name": "stdin",
     "output_type": "stream",
     "text": [
      "Search bengaluru\n"
     ]
    },
    {
     "name": "stdout",
     "output_type": "stream",
     "text": [
      "https://en.wikipedia.org/wiki/History_of_Bengaluru\n",
      "https://en.wikipedia.org/wiki/Bengaluru_Urban_district\n",
      "https://en.wikipedia.org/wiki/Bengaluru_Palace\n",
      "https://en.wikipedia.org/wiki/Bengaluru_geography_and_environment\n",
      "Bengaluru - Wikipedia\n",
      "{'title': 'Geography', 'link': 'https://en.wikipedia.org/wiki/Bengaluru_geography_and_environment'}\n",
      "Bengaluru, [a] also known as Bangalore (its official name until 1 November 2014), is the capital and largest city of the southern Indian state of Karnataka.\n",
      "Bengaluru, also known as Bangalore (its official name until November 1, 2014), is:\n",
      "\n",
      "*   The capital and largest city of the southern Indian state of Karnataka, a status it has held since 1830.\n",
      "*   One of India's largest cities, with a population exceeding ten million, classifying it as a megacity.\n",
      "*   Known as both the \"Garden City\" and \"The Silicon Valley of India,\" and is considered a \"techie's paradise.\"\n",
      "*   A city with an active online community forum (r/bangalore) for local news, events, and discussions.\n"
     ]
    }
   ],
   "source": [
    "from langchain.prompts import PromptTemplate\n",
    "from langchain.chains import LLMChain\n",
    "\n",
    "load_dotenv()\n",
    "search_query = input(\"Search\")\n",
    "\n",
    "from langchain_community.utilities import GoogleSerperAPIWrapper\n",
    "\n",
    "search = GoogleSerperAPIWrapper()\n",
    "url = search.results(search_query)\n",
    "\n",
    "result=search.run(search_query)\n",
    "\n",
    "summary_prompt = PromptTemplate(\n",
    "    input_variables=[\"text\", \"query\"],\n",
    "    template=\"\"\"\n",
    "You are a helpful research assistant.\n",
    "\n",
    "Given this web content:\n",
    "\"{text}\"\n",
    "\n",
    "And user query:\n",
    "\"{query}\"\n",
    "\n",
    "Write a concise, useful summary answering the query based on the content. Use bullet points if relevant.\n",
    "\"\"\"\n",
    ")\n",
    "\n",
    "\n",
    "summary_chain = LLMChain(llm=llm, prompt=summary_prompt)\n",
    "\n",
    "\n",
    "response = summary_chain.run({\n",
    "    \"text\": search_query,\n",
    "    \"query\": result\n",
    "})\n",
    "\n",
    "title = url[\"organic\"][0][\"title\"]\n",
    "link = url[\"organic\"][0][\"link\"]\n",
    "snippet = url[\"organic\"][0][\"snippet\"]\n",
    "\n",
    "sitelink = url[\"organic\"][0][\"sitelinks\"]\n",
    "\n",
    "for link in sitelink:\n",
    "    print(link[\"link\"])\n",
    "\n",
    "print(title)\n",
    "print(link)\n",
    "print(snippet)\n",
    "print(response)"
   ]
  },
  {
   "cell_type": "code",
   "execution_count": 126,
   "id": "8c1162e0-327f-4acb-9638-ad1b1aeacbdd",
   "metadata": {},
   "outputs": [
    {
     "name": "stdout",
     "output_type": "stream",
     "text": [
      "Result type: <class 'str'>\n",
      "Embedded vector length: 768\n",
      "Metadata: {'source': {'searchParameters': {'q': 'bengaluru', 'gl': 'us', 'hl': 'en', 'type': 'search', 'num': 10, 'engine': 'google'}, 'organic': [{'title': 'Bengaluru - Wikipedia', 'link': 'https://en.wikipedia.org/wiki/Bengaluru', 'snippet': 'Bengaluru, [a] also known as Bangalore (its official name until 1 November 2014), is the capital and largest city of the southern Indian state of Karnataka.', 'sitelinks': [{'title': 'History of Bengaluru', 'link': 'https://en.wikipedia.org/wiki/History_of_Bengaluru'}, {'title': 'Bengaluru Urban district', 'link': 'https://en.wikipedia.org/wiki/Bengaluru_Urban_district'}, {'title': 'Bengaluru Palace', 'link': 'https://en.wikipedia.org/wiki/Bengaluru_Palace'}, {'title': 'Geography', 'link': 'https://en.wikipedia.org/wiki/Bengaluru_geography_and_environment'}], 'position': 1}, {'title': 'Bengaluru | History, Points of Interest, & Facts | Britannica', 'link': 'https://www.britannica.com/place/Bangalore-India', 'snippet': \"Bengaluru, city, capital (since 1830) of Karnataka state, southern India. Bengaluru is one of India's largest cities.\", 'date': '6 days ago', 'position': 2}, {'title': 'Bengaluru, India: All You Must Know Before You Go (2025)', 'link': 'https://www.tripadvisor.com/Tourism-g297628-Bengaluru_Bangalore_District_Karnataka-Vacations.html', 'snippet': 'Known as both the \"Garden City\" and \"The Silicon Valley of India,\" Bangalore (officially \"Bengaluru\") is a techie\\'s paradise, boasting the highest ...', 'position': 3}, {'title': 'History | District Bengaluru Urban, Government of Karnataka | India', 'link': 'https://bengaluruurban.nic.in/en/history/', 'snippet': 'Bangalore, officially known as Bengaluru, is the Capital of the Indian State of Karnataka. It has a population of over ten million, making it a megacity.', 'position': 4}, {'title': \"Bengaluru News, Today's Bangalore News on Politics ... - The Hindu\", 'link': 'https://www.thehindu.com/news/cities/bangalore/', 'snippet': \"Bengaluru News Today: Stay up-to-date with the latest happenings in the 'Garden City' and 'Silicon Valley of India'. From politics and business to sports, ...\", 'sitelinks': [{'title': 'Bangalore Today', 'link': 'https://www.thehindu.com/news/cities/bangalore/bangalore-today/article7554248.ece'}, {'title': 'How Bengaluru became...', 'link': 'https://www.thehindu.com/news/cities/bangalore/how-bengaluru-became-indias-scientific-powerhouse/article69298636.ece'}, {'title': 'Bengaluru by 2030 is...', 'link': 'https://www.thehindu.com/news/cities/bangalore/bengaluru-by-2030-is-expected-to-have-a-home-furnishing-potential-of-about-216-billion/article69505810.ece'}, {'title': 'Shorts', 'link': 'https://www.thehindu.com/shorts/'}], 'position': 5}, {'title': 'Kempegowda International Airport Bengaluru | Bangalore Airport ...', 'link': 'https://www.bengaluruairport.com/', 'position': 6}, {'title': 'District Bengaluru Urban, Government of Karnataka | India', 'link': 'https://bengaluruurban.nic.in/en/', 'snippet': 'District at a Glance · Geographical Area: 2196 sq km · Population: 96,21,551 · Literacy Rate: 87:67% · Taluk : 5 · Hobli: 20 · Villages: 588.', 'date': 'Jul 15, 2025', 'sitelinks': [{'title': 'History', 'link': 'https://bengaluruurban.nic.in/en/history/'}, {'title': 'Bengaluru Urban Applications', 'link': 'https://bengaluruurban.nic.in/en/bengaluru-urban-applications-2/'}, {'title': 'Certificates', 'link': 'https://bengaluruurban.nic.in/en/service-category/certificates/'}, {'title': \"Who's Who\", 'link': 'https://bengaluruurban.nic.in/en/aboutdistrict/whos-who/'}], 'position': 7}], 'topStories': [{'title': 'Dengue Spike in Bengaluru: 442 Cases in July as Monsoon Fuels Spread', 'link': 'https://www.deccanherald.com/india/karnataka/bengaluru/dengue-cases-rise-with-onset-of-monsoon-3653020', 'date': '8 hours ago', 'source': 'Deccan Herald'}, {'title': 'Bengaluru Women Share Video Of Being Followed And Chased By 3 Men: \"Shaken, Traumatised\"', 'link': 'https://www.ndtv.com/india-news/bengaluru-women-share-scary-video-of-being-followed-chased-by-3-men-we-are-traumatised-8964126', 'date': '23 hours ago', 'source': 'NDTV'}, {'title': 'Bengaluru toxic flow polluting Thenpennai: Centre', 'link': 'https://www.newindianexpress.com/states/tamil-nadu/2025/Jul/29/bengaluru-toxic-flow-polluting-thenpennai-centre', 'date': '2 hours ago', 'source': 'The New Indian Express'}, {'title': 'Consulate General of Israel to South India ✓  Twitter › IsraelBangalore', 'link': 'https://x.com/IsraelBangalore/status/1949760651729195243?ref_src=twsrc%5Egoogle%7Ctwcamp%5Eserp%7Ctwgr%5Etweet', 'source': 'Twitter › IsraelBangalore'}, {'title': 'Namma Karnataka Weather ✓  Twitter › namma_vjy', 'link': 'https://x.com/namma_vjy/status/1950028984575758733?ref_src=twsrc%5Egoogle%7Ctwcamp%5Eserp%7Ctwgr%5Etweet', 'source': 'Twitter › namma_vjy'}, {'title': 'ಬೆಂಗಳೂರು ಸಂಚಾರ ಪೊಲೀಸ್ BengaluruTrafficPolice  Twitter › blrcitytraffic', 'link': 'https://x.com/blrcitytraffic/status/1949750630169415808?ref_src=twsrc%5Egoogle%7Ctwcamp%5Eserp%7Ctwgr%5Etweet', 'source': 'Twitter › blrcitytraffic'}, {'title': 'B.PAC - Bangalore Political Action Committee ✓  Twitter › BPACofficial', 'link': 'https://x.com/BPACofficial/status/1949763408313856424?ref_src=twsrc%5Egoogle%7Ctwcamp%5Eserp%7Ctwgr%5Etweet', 'source': 'Twitter › BPACofficial'}], 'relatedSearches': [{'query': 'bengaluru in which state'}, {'query': 'bengaluru city name'}, {'query': '10 points about bangalore city'}, {'query': 'bengaluru mein'}, {'query': 'bengaluru urban area'}, {'query': 'bangalore or bengaluru which is correct'}, {'query': 'bengaluru weather'}, {'query': 'bengaluru pincode'}], 'credits': 1}}\n",
      "Document added successfully!\n"
     ]
    }
   ],
   "source": [
    "import chromadb\n",
    "\n",
    "load_dotenv()\n",
    "\n",
    "api_key = os.getenv(\"GEMINI_API_KEY\")\n",
    "if not api_key:\n",
    "    raise ValueError(\"GEMINI_API_KEY is not set\")\n",
    "\n",
    "from langchain_google_genai import GoogleGenerativeAIEmbeddings\n",
    "\n",
    "embeddings = GoogleGenerativeAIEmbeddings(\n",
    "    model=\"models/embedding-001\",\n",
    "    google_api_key=api_key\n",
    ")\n",
    "\n",
    "embedded_text = embeddings.embed_query(result)\n",
    "\n",
    "client = chromadb.CloudClient(\n",
    "  api_key= os.getenv(\"CHROMA_API_KEY\"),\n",
    "  tenant=os.getenv(\"CHROMA_TENANT\"),\n",
    "  database=os.getenv(\"CHROMA_DATABASE\"),\n",
    ")\n",
    "\n",
    "collection=client.get_or_create_collection(name=\"ai-browser\")\n",
    "\n",
    "doc_counter=0\n",
    "\n",
    "doc_id = f\"doc_{doc_counter}\"\n",
    "collection.add(\n",
    "    documents=[result],\n",
    "    embeddings=[embedded_text],\n",
    "    metadatas=[{\"source\": url[\"organic\"][0][\"link\"]}],\n",
    "    ids=[doc_id]\n",
    ")\n",
    "doc_counter+=1\n",
    "\n",
    "print(\"Result type:\", type(result))\n",
    "print(\"Embedded vector length:\", len(embedded_text))\n",
    "print(\"Metadata:\", {\"source\": url})\n",
    "print(\"Document added successfully!\")\n"
   ]
  },
  {
   "cell_type": "code",
   "execution_count": 134,
   "id": "53c8ebbc-c2aa-454a-b7fc-6202cbef4a1c",
   "metadata": {
    "scrolled": true
   },
   "outputs": [
    {
     "name": "stdin",
     "output_type": "stream",
     "text": [
      "Question:  bengaluru food street\n"
     ]
    },
    {
     "name": "stdout",
     "output_type": "stream",
     "text": [
      "\n",
      "Final Output:\n",
      " In this video, I explore VV Puram Food Street in Bengaluru, India — a spot locals told me has some of the best street food in the city. Baa maga, eat street hogana, or some of the BDA complexes have good street food nearby. Church street street food is a scam tho. Upvote 12 Bangalore Food Street in Marathahalli,Banguluru. Thatte idly, vada and chutney Location: Marathahalli, @netra_cafe Rating: 4.5/5 Follow @bangalorefoodstreet ... A whole street dedicated to food lovers. All kinds of Indian cuisine can be found there. Right from Rajasthani, Gujarathi, Bengali, South Indian, Chinese, Chats ... Walk through Bangalore's most famous food street. Savour South Indian butte dosa, idli vada or the local favourite hollige. Taste North Indian chat items. The street has over 20 food stalls in less than 150 meters serving varieties of pure vegetarian street food, sweets, South Indian, North Indian and Chinese ... Come join us for mouth watering Bangalore Street Food Tours as visit various locations in the city to sample the best Indian Street Food in Bangalore, ... Indian Street Food - King of EGG FRIED RICE!! Unique Food in Bangalore, India! · Comments. Best Street Food Spots in Bangalore: · 1. Food Street (V V Puram) · 2. Shri Sagar - CTR (Malleshwaram) · 3. Brahmin's Coffee Bar (Basavanagudi). Here is the Top 20 Street Food Places in Bangalore: A Food Lover's Guide 1. VV Puram Food Street (Thindi Beedi) 2. Shivaji Nagar (Broadway Road) 3. ...\n"
     ]
    }
   ],
   "source": [
    "query = input(\"Question: \")\n",
    "query_embedding = embeddings.embed_query(query)\n",
    "\n",
    "\n",
    "results = collection.query(\n",
    "    query_embeddings=query_embedding,\n",
    "    n_results=1\n",
    ")\n",
    "\n",
    "\n",
    "retrieved_text = results[\"documents\"][0][0] if results.get(\"documents\") else \"\"\n",
    "\n",
    "summary_prompt = PromptTemplate(\n",
    "    input_variables=[\"text\", \"query\"],\n",
    "    template=\"\"\"\n",
    "You are a helpful summarizer assistant.\n",
    "\n",
    "Given this web content which is already searched and saved in the vector database:\n",
    "\"{text}\"\n",
    "\n",
    "And user query:\n",
    "\"{query}\"\n",
    "\n",
    "Write a concise, useful summary answering the query based on the content. Do not make up the answer, if you do not know the answer say \"I don't know the answer!\".\n",
    "\"\"\"\n",
    ")\n",
    "\n",
    "\n",
    "summary_chain = LLMChain(llm=llm, prompt=summary_prompt)\n",
    "\n",
    "response = summary_chain.run({\n",
    "    \"text\": retrieved_text,\n",
    "    \"query\": query\n",
    "})\n",
    "\n",
    "doc_counter=0\n",
    "def fetch_or_search(query, response, search):\n",
    "    global doc_counter\n",
    "    if not response.strip() or response.strip() == \"I don't know the answer!\":\n",
    "        output=search.run(query)\n",
    "        try:\n",
    "            parsed = json.loads(output)\n",
    "            link = parsed[\"organic\"][0][\"link\"]\n",
    "        except Exception:\n",
    "            link = \"N/A\"\n",
    "        try:\n",
    "            output_embedding = embeddings.embed_query(output)\n",
    "            doc_id = f\"doc_{doc_counter}\"\n",
    "            collection.add(\n",
    "                documents=[output],\n",
    "                embeddings=[output_embedding],\n",
    "                metadatas=[{\"source\": link}],\n",
    "                ids=[doc_id]\n",
    "            )\n",
    "            doc_counter += 1\n",
    "        except Exception as e:\n",
    "            print(\"Error embedding or storing:\", e)\n",
    "        return output\n",
    "    return response\n",
    "\n",
    "output = fetch_or_search(query, response, search)\n",
    "\n",
    "\n",
    "print(\"\\nFinal Output:\\n\", output)\n"
   ]
  },
  {
   "cell_type": "code",
   "execution_count": null,
   "id": "e9e37c4e-0c37-4822-aeb2-e174e9fc41c8",
   "metadata": {},
   "outputs": [],
   "source": []
  }
 ],
 "metadata": {
  "kernelspec": {
   "display_name": "Python 3 (ipykernel)",
   "language": "python",
   "name": "python3"
  },
  "language_info": {
   "codemirror_mode": {
    "name": "ipython",
    "version": 3
   },
   "file_extension": ".py",
   "mimetype": "text/x-python",
   "name": "python",
   "nbconvert_exporter": "python",
   "pygments_lexer": "ipython3",
   "version": "3.12.10"
  }
 },
 "nbformat": 4,
 "nbformat_minor": 5
}
